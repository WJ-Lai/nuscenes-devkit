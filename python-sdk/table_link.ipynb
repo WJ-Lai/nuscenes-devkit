{
 "cells": [
  {
   "cell_type": "code",
   "execution_count": 1,
   "metadata": {},
   "outputs": [
    {
     "name": "stdout",
     "output_type": "stream",
     "text": [
      "======\n",
      "Loading NuScenes tables for version v0.1 ...\n",
      "23 category,\n",
      "8 attribute,\n",
      "5 visibility,\n",
      "6975 instance,\n",
      "12 sensor,\n",
      "1200 calibrated_sensor,\n",
      "304715 ego_pose,\n",
      "12 log,\n",
      "100 scene,\n",
      "3977 sample,\n",
      "304715 sample_data,\n",
      "99952 sample_annotation,\n",
      "12 map,\n",
      "Done loading in 15.6 seconds.\n",
      "======\n",
      "Reverse indexing ...\n",
      "Done reverse indexing in 2.2 seconds.\n",
      "======\n"
     ]
    }
   ],
   "source": [
    "# Let's start by initializing the database\n",
    "%matplotlib inline\n",
    "from nuscenes.nuscenes import NuScenes\n",
    "\n",
    "nusc = NuScenes(version='v0.1', dataroot='/data/nuscenes', verbose=True)"
   ]
  },
  {
   "cell_type": "code",
   "execution_count": 19,
   "metadata": {},
   "outputs": [
    {
     "data": {
      "text/plain": [
       "{'token': '9c86d0cc1fd04af3b2000748cec2d9ec',\n",
       " 'sample_token': 'fa2eb1e2c88c45ae84372dd127828b81',\n",
       " 'ego_pose_token': '9c86d0cc1fd04af3b2000748cec2d9ec',\n",
       " 'calibrated_sensor_token': 'de046b6160124a738a0c8a5a65ca807d',\n",
       " 'timestamp': 1531886088428276,\n",
       " 'fileformat': 'pcd',\n",
       " 'is_key_frame': True,\n",
       " 'height': 0,\n",
       " 'width': 0,\n",
       " 'filename': 'samples/RADAR_FRONT_RIGHT/n015-2018-07-18-11-50-34+0800__RADAR_FRONT_RIGHT__1531886088428276.pcd',\n",
       " 'prev': 'eeb564b1ccb045a1aa162e9e999e924b',\n",
       " 'next': '346ba5e66e8f4ba3a96bf3ad0290e093',\n",
       " 'sensor_modality': 'radar',\n",
       " 'channel': 'RADAR_FRONT_RIGHT'}"
      ]
     },
     "execution_count": 19,
     "metadata": {},
     "output_type": "execute_result"
    }
   ],
   "source": [
    "nusc.sample_data[120000]"
   ]
  },
  {
   "cell_type": "code",
   "execution_count": 20,
   "metadata": {},
   "outputs": [
    {
     "data": {
      "text/plain": [
       "{'token': '8c41c6aa88bc45329e34d6a1a5687434',\n",
       " 'sample_token': 'f9878012c3f6412184c294c13ba4bac3',\n",
       " 'instance_token': '61e592dd1f6443c4b0f11ff6a08ff2e7',\n",
       " 'visibility_token': '3',\n",
       " 'attribute_tokens': ['bb9b1072f0d749ccaaec37ee44a1b8f1'],\n",
       " 'translation': [2156.381, 592.638, 1.984],\n",
       " 'size': [0.608, 0.621, 1.311],\n",
       " 'rotation': [0.7071067811865476, 0.0, 0.0, 0.7071067811865475],\n",
       " 'prev': '',\n",
       " 'next': '96618fac54344b9c813a76d90ec743c1',\n",
       " 'category_name': 'human.pedestrian.adult'}"
      ]
     },
     "execution_count": 20,
     "metadata": {},
     "output_type": "execute_result"
    }
   ],
   "source": [
    "nusc.sample_annotation[0]"
   ]
  },
  {
   "cell_type": "code",
   "execution_count": 7,
   "metadata": {},
   "outputs": [
    {
     "data": {
      "text/plain": [
       "{'token': 'f9878012c3f6412184c294c13ba4bac3',\n",
       " 'timestamp': 1526915243047392,\n",
       " 'prev': '',\n",
       " 'next': 'dee909131941447b98da1f253c64c698',\n",
       " 'scene_token': '0d2cc345342a460e94ff54748338ac22',\n",
       " 'data': {'RADAR_FRONT': '4cfd87634ae24097abf5ce3475ce532c',\n",
       "  'RADAR_FRONT_LEFT': '560a38990784438397080ff6f052f824',\n",
       "  'RADAR_FRONT_RIGHT': '130976f06e3b48a2903f77fbb541e23d',\n",
       "  'RADAR_BACK_LEFT': 'bad4513e83b3491b83833b1000a45a0c',\n",
       "  'RADAR_BACK_RIGHT': 'fdde311bf11041c0b4338804359e91de',\n",
       "  'LIDAR_TOP': '4f8f06b5d21d4a3c8fda7a075c0d39bf',\n",
       "  'CAM_FRONT': '1b3c7cc8afd242758266229263ff204a',\n",
       "  'CAM_FRONT_RIGHT': '2ad705761b6242c88b89344261419527',\n",
       "  'CAM_BACK_RIGHT': '992bbebcf53a4b3698b2ab2d18633166',\n",
       "  'CAM_BACK': 'a5401c36dc88439883ff3d4ad23b020e',\n",
       "  'CAM_BACK_LEFT': '7eb36517f6ba4338ad5b14b4ba2ad301',\n",
       "  'CAM_FRONT_LEFT': '678f6f1a10b04127b514264205709710'},\n",
       " 'anns': ['8c41c6aa88bc45329e34d6a1a5687434',\n",
       "  '2e322cc291214ef1971dcaea4d614e4b',\n",
       "  'bb09a013504d4147b405eebe0dc2daf9',\n",
       "  '9ad7bf608d2f4a94bc7a398d5a30b163',\n",
       "  '714d0341f2c34c7a9137912a69590466',\n",
       "  '799fee974d864dce8a395d4525344d8f',\n",
       "  '5b25603e36ec4dec88ee4f64fd2213a8',\n",
       "  '82df452fc4b741e5992b1ff87ac7c07d',\n",
       "  '54f2bbbfab4d4d97b4ca01e2490540cb',\n",
       "  'd302980881ad4cf799c72529ab9646c6',\n",
       "  'b821c9da6fb246dd9c1d504271514c6c',\n",
       "  '71c3a14eb2104f42be9711dc25457233',\n",
       "  '31986d22d2e8453c9625eb56e51ff4ac',\n",
       "  '4b79b03d25904f2ab6777fca57d43272',\n",
       "  '5fd417c54b454f309325da1d6a9f8fe3',\n",
       "  '5995e2d22d4243fea3acb963801ddb9a',\n",
       "  'b80c389e9f864164826f57e7eed97e43',\n",
       "  '848315eda56245fb884de81ad1d6ec9d',\n",
       "  '8c9592d481ea408faef969302ba73b9d',\n",
       "  '5f21a2bc6e354ef2ae62e0fcdfe2a74b',\n",
       "  '8be5c570eaa64a4c81d6e9754e360d89',\n",
       "  'a51ccc036bbc45c198255b43977e1739',\n",
       "  '2524a63b8742487b9d5d55fac8261a35',\n",
       "  '06439a56161d44eea49b1dd19d26dd0e',\n",
       "  '081ab1220f8e49d1a2a1753a05a6a65d',\n",
       "  '7a3c9367ec534564b7be6ec470cbcaef',\n",
       "  'f59e886dd0664e2694c463810b7c8ef4',\n",
       "  '2c68ffe9dc3b4c3288e25f7bc2757d89',\n",
       "  '98a1258bdafe4bec821f056110a9cddc',\n",
       "  'e6859d2be98b4208820b37efe0143150',\n",
       "  '361de0d0ac6444b5aa48c5481f31dc11',\n",
       "  'ab658c08ba764e83ae96cf3dcef29b02',\n",
       "  '4cc77180cbcd4c08b666d22c0e0b87dc',\n",
       "  'd5c0e1faa8264a9597cbf085edc101c6',\n",
       "  'c1db747bb02546198122987ebf8c7d4d',\n",
       "  '25d04fcdb5364b6ab65b607eabe2be73',\n",
       "  '5e5f67f72a1041b99430a079f90105ec',\n",
       "  'a583b8d590154fc1ad217fecb844f6d4',\n",
       "  '4d8a53a3cae94b18ae2a6ac941673115',\n",
       "  'e64918ee5cd74fb7b76552bc26acf1c7',\n",
       "  '0b2edd44f6e34cc287b37464a930083e',\n",
       "  '7ea3bd016df241df86545f4e23086260',\n",
       "  '4e9a88be71ad4f03ac6204254b66c9d2',\n",
       "  '25a3c3744fb44d05ba92a672ae6562ba']}"
      ]
     },
     "execution_count": 7,
     "metadata": {},
     "output_type": "execute_result"
    }
   ],
   "source": [
    "nusc.get('sample', 'f9878012c3f6412184c294c13ba4bac3')"
   ]
  },
  {
   "cell_type": "code",
   "execution_count": 14,
   "metadata": {},
   "outputs": [
    {
     "data": {
      "text/plain": [
       "{'token': '4f8f06b5d21d4a3c8fda7a075c0d39bf',\n",
       " 'sample_token': 'f9878012c3f6412184c294c13ba4bac3',\n",
       " 'ego_pose_token': '4f8f06b5d21d4a3c8fda7a075c0d39bf',\n",
       " 'calibrated_sensor_token': 'f577ef2bcba0426a81d4833c5c6febcf',\n",
       " 'timestamp': 1526915243047392,\n",
       " 'fileformat': 'pcd',\n",
       " 'is_key_frame': True,\n",
       " 'height': 0,\n",
       " 'width': 0,\n",
       " 'filename': 'samples/LIDAR_TOP/n008-2018-05-21-11-06-59-0400__LIDAR_TOP__1526915243047392.pcd.bin',\n",
       " 'prev': '',\n",
       " 'next': '3edf58dbadcb46729256168be6cf7ddc',\n",
       " 'sensor_modality': 'lidar',\n",
       " 'channel': 'LIDAR_TOP'}"
      ]
     },
     "execution_count": 14,
     "metadata": {},
     "output_type": "execute_result"
    }
   ],
   "source": [
    "sd_record = nusc.get('sample_data', '4f8f06b5d21d4a3c8fda7a075c0d39bf')\n",
    "sd_record"
   ]
  },
  {
   "cell_type": "code",
   "execution_count": 21,
   "metadata": {},
   "outputs": [
    {
     "data": {
      "text/plain": [
       "{'token': '1fa93b757fc74fb197cdd60001ad8abf',\n",
       " 'name': 'human.pedestrian.adult',\n",
       " 'description': 'Adult subcategory.'}"
      ]
     },
     "execution_count": 21,
     "metadata": {},
     "output_type": "execute_result"
    }
   ],
   "source": [
    "nusc.category[0]"
   ]
  },
  {
   "cell_type": "code",
   "execution_count": 22,
   "metadata": {},
   "outputs": [
    {
     "data": {
      "text/plain": [
       "{'token': '5bf213e988274e8aaf58215363806c0e',\n",
       " 'category_token': '6021b5187b924d64be64a702e5570edf',\n",
       " 'nbr_annotations': 40,\n",
       " 'first_annotation_token': 'd302980881ad4cf799c72529ab9646c6',\n",
       " 'last_annotation_token': 'a4847aa5cc154eb3972c22b3743d7fe3'}"
      ]
     },
     "execution_count": 22,
     "metadata": {},
     "output_type": "execute_result"
    }
   ],
   "source": [
    "nusc.instance[0]"
   ]
  },
  {
   "cell_type": "code",
   "execution_count": 38,
   "metadata": {},
   "outputs": [
    {
     "data": {
      "text/plain": [
       "{'token': 'd302980881ad4cf799c72529ab9646c6',\n",
       " 'sample_token': 'f9878012c3f6412184c294c13ba4bac3',\n",
       " 'instance_token': '5bf213e988274e8aaf58215363806c0e',\n",
       " 'visibility_token': '2',\n",
       " 'attribute_tokens': ['7481fa12807040feabeb66d8e23996ec'],\n",
       " 'translation': [2174.012, 611.723, 1.065],\n",
       " 'size': [2.103, 5.554, 1.87],\n",
       " 'rotation': [0.7074676732669855, 0.0, 0.0, -0.7067457048204806],\n",
       " 'prev': '',\n",
       " 'next': 'b42ed3bf5e7a41bda5ae028297b2bc15',\n",
       " 'category_name': 'vehicle.truck'}"
      ]
     },
     "execution_count": 38,
     "metadata": {},
     "output_type": "execute_result"
    }
   ],
   "source": [
    "nusc.get('sample_annotation', 'd302980881ad4cf799c72529ab9646c6')"
   ]
  },
  {
   "cell_type": "code",
   "execution_count": 23,
   "metadata": {},
   "outputs": [
    {
     "data": {
      "text/plain": [
       "{'description': 'visibility of whole object is between 0 and 20%',\n",
       " 'token': '0',\n",
       " 'level': 'v0-20'}"
      ]
     },
     "execution_count": 23,
     "metadata": {},
     "output_type": "execute_result"
    }
   ],
   "source": [
    "nusc.visibility[0]"
   ]
  },
  {
   "cell_type": "code",
   "execution_count": 24,
   "metadata": {},
   "outputs": [
    {
     "data": {
      "text/plain": [
       "{'token': 'f9878012c3f6412184c294c13ba4bac3',\n",
       " 'timestamp': 1526915243047392,\n",
       " 'prev': '',\n",
       " 'next': 'dee909131941447b98da1f253c64c698',\n",
       " 'scene_token': '0d2cc345342a460e94ff54748338ac22',\n",
       " 'data': {'RADAR_FRONT': '4cfd87634ae24097abf5ce3475ce532c',\n",
       "  'RADAR_FRONT_LEFT': '560a38990784438397080ff6f052f824',\n",
       "  'RADAR_FRONT_RIGHT': '130976f06e3b48a2903f77fbb541e23d',\n",
       "  'RADAR_BACK_LEFT': 'bad4513e83b3491b83833b1000a45a0c',\n",
       "  'RADAR_BACK_RIGHT': 'fdde311bf11041c0b4338804359e91de',\n",
       "  'LIDAR_TOP': '4f8f06b5d21d4a3c8fda7a075c0d39bf',\n",
       "  'CAM_FRONT': '1b3c7cc8afd242758266229263ff204a',\n",
       "  'CAM_FRONT_RIGHT': '2ad705761b6242c88b89344261419527',\n",
       "  'CAM_BACK_RIGHT': '992bbebcf53a4b3698b2ab2d18633166',\n",
       "  'CAM_BACK': 'a5401c36dc88439883ff3d4ad23b020e',\n",
       "  'CAM_BACK_LEFT': '7eb36517f6ba4338ad5b14b4ba2ad301',\n",
       "  'CAM_FRONT_LEFT': '678f6f1a10b04127b514264205709710'},\n",
       " 'anns': ['8c41c6aa88bc45329e34d6a1a5687434',\n",
       "  '2e322cc291214ef1971dcaea4d614e4b',\n",
       "  'bb09a013504d4147b405eebe0dc2daf9',\n",
       "  '9ad7bf608d2f4a94bc7a398d5a30b163',\n",
       "  '714d0341f2c34c7a9137912a69590466',\n",
       "  '799fee974d864dce8a395d4525344d8f',\n",
       "  '5b25603e36ec4dec88ee4f64fd2213a8',\n",
       "  '82df452fc4b741e5992b1ff87ac7c07d',\n",
       "  '54f2bbbfab4d4d97b4ca01e2490540cb',\n",
       "  'd302980881ad4cf799c72529ab9646c6',\n",
       "  'b821c9da6fb246dd9c1d504271514c6c',\n",
       "  '71c3a14eb2104f42be9711dc25457233',\n",
       "  '31986d22d2e8453c9625eb56e51ff4ac',\n",
       "  '4b79b03d25904f2ab6777fca57d43272',\n",
       "  '5fd417c54b454f309325da1d6a9f8fe3',\n",
       "  '5995e2d22d4243fea3acb963801ddb9a',\n",
       "  'b80c389e9f864164826f57e7eed97e43',\n",
       "  '848315eda56245fb884de81ad1d6ec9d',\n",
       "  '8c9592d481ea408faef969302ba73b9d',\n",
       "  '5f21a2bc6e354ef2ae62e0fcdfe2a74b',\n",
       "  '8be5c570eaa64a4c81d6e9754e360d89',\n",
       "  'a51ccc036bbc45c198255b43977e1739',\n",
       "  '2524a63b8742487b9d5d55fac8261a35',\n",
       "  '06439a56161d44eea49b1dd19d26dd0e',\n",
       "  '081ab1220f8e49d1a2a1753a05a6a65d',\n",
       "  '7a3c9367ec534564b7be6ec470cbcaef',\n",
       "  'f59e886dd0664e2694c463810b7c8ef4',\n",
       "  '2c68ffe9dc3b4c3288e25f7bc2757d89',\n",
       "  '98a1258bdafe4bec821f056110a9cddc',\n",
       "  'e6859d2be98b4208820b37efe0143150',\n",
       "  '361de0d0ac6444b5aa48c5481f31dc11',\n",
       "  'ab658c08ba764e83ae96cf3dcef29b02',\n",
       "  '4cc77180cbcd4c08b666d22c0e0b87dc',\n",
       "  'd5c0e1faa8264a9597cbf085edc101c6',\n",
       "  'c1db747bb02546198122987ebf8c7d4d',\n",
       "  '25d04fcdb5364b6ab65b607eabe2be73',\n",
       "  '5e5f67f72a1041b99430a079f90105ec',\n",
       "  'a583b8d590154fc1ad217fecb844f6d4',\n",
       "  '4d8a53a3cae94b18ae2a6ac941673115',\n",
       "  'e64918ee5cd74fb7b76552bc26acf1c7',\n",
       "  '0b2edd44f6e34cc287b37464a930083e',\n",
       "  '7ea3bd016df241df86545f4e23086260',\n",
       "  '4e9a88be71ad4f03ac6204254b66c9d2',\n",
       "  '25a3c3744fb44d05ba92a672ae6562ba']}"
      ]
     },
     "execution_count": 24,
     "metadata": {},
     "output_type": "execute_result"
    }
   ],
   "source": [
    "nusc.sample[0]"
   ]
  },
  {
   "cell_type": "code",
   "execution_count": 25,
   "metadata": {},
   "outputs": [
    {
     "data": {
      "text/plain": [
       "{'token': '0d2cc345342a460e94ff54748338ac22',\n",
       " 'log_token': 'b05f285d53744542a3413476d6dd9270',\n",
       " 'nbr_samples': 40,\n",
       " 'first_sample_token': 'f9878012c3f6412184c294c13ba4bac3',\n",
       " 'last_sample_token': 'a4ceea9b48de456e96bcc347c81c2338',\n",
       " 'name': 'scene-0161',\n",
       " 'description': ''}"
      ]
     },
     "execution_count": 25,
     "metadata": {},
     "output_type": "execute_result"
    }
   ],
   "source": [
    "nusc.scene[0]"
   ]
  },
  {
   "cell_type": "code",
   "execution_count": 26,
   "metadata": {},
   "outputs": [
    {
     "data": {
      "text/plain": [
       "{'token': 'b05f285d53744542a3413476d6dd9270',\n",
       " 'logfile': 'n008-2018-05-21-11-06-59-0400',\n",
       " 'vehicle': 'n008',\n",
       " 'date_captured': '2018-05-21',\n",
       " 'location': 'boston-seaport',\n",
       " 'map_token': 'b05f285d53744542a3413476d6dd9270'}"
      ]
     },
     "execution_count": 26,
     "metadata": {},
     "output_type": "execute_result"
    }
   ],
   "source": [
    "nusc.log[0]"
   ]
  },
  {
   "cell_type": "code",
   "execution_count": 27,
   "metadata": {},
   "outputs": [
    {
     "data": {
      "text/plain": [
       "{'filename': 'maps/b05f285d53744542a3413476d6dd9270.semantic_prior.png',\n",
       " 'category': 'semantic_prior',\n",
       " 'log_token': 'b05f285d53744542a3413476d6dd9270',\n",
       " 'token': 'b05f285d53744542a3413476d6dd9270',\n",
       " 'mask': <nuscenes.utils.map_mask.MapMask at 0x7f09ea684c88>}"
      ]
     },
     "execution_count": 27,
     "metadata": {},
     "output_type": "execute_result"
    }
   ],
   "source": [
    "nusc.map[0]"
   ]
  },
  {
   "cell_type": "code",
   "execution_count": 28,
   "metadata": {},
   "outputs": [
    {
     "data": {
      "text/plain": [
       "{'token': 'a978f9793a594d11860e9cf7962996d7',\n",
       " 'name': 'vehicle.moving',\n",
       " 'description': 'Vehicle is moving.'}"
      ]
     },
     "execution_count": 28,
     "metadata": {},
     "output_type": "execute_result"
    }
   ],
   "source": [
    "nusc.attribute[0]"
   ]
  },
  {
   "cell_type": "code",
   "execution_count": 29,
   "metadata": {},
   "outputs": [
    {
     "data": {
      "text/plain": [
       "{'token': '725903f5b62f56118f4094b46a4470d8',\n",
       " 'channel': 'CAM_FRONT',\n",
       " 'modality': 'camera'}"
      ]
     },
     "execution_count": 29,
     "metadata": {},
     "output_type": "execute_result"
    }
   ],
   "source": [
    "nusc.sensor[0]"
   ]
  },
  {
   "cell_type": "code",
   "execution_count": 30,
   "metadata": {},
   "outputs": [
    {
     "data": {
      "text/plain": [
       "{'token': '4cfd87634ae24097abf5ce3475ce532c',\n",
       " 'timestamp': 1526915243042374,\n",
       " 'rotation': [0.9997239430277377,\n",
       "  8.603733301167676e-05,\n",
       "  0.006933819960279533,\n",
       "  0.022448885838926923],\n",
       " 'translation': [2149.4598475997677, 603.3061194452616, 0.0]}"
      ]
     },
     "execution_count": 30,
     "metadata": {},
     "output_type": "execute_result"
    }
   ],
   "source": [
    "nusc.ego_pose[0]"
   ]
  },
  {
   "cell_type": "code",
   "execution_count": 31,
   "metadata": {},
   "outputs": [
    {
     "data": {
      "text/plain": [
       "{'token': 'db76cb0b23884ba4ad1a861593b667b6',\n",
       " 'sensor_token': '47fcd48f71d75e0da5c8c1704a9bfe0a',\n",
       " 'translation': [3.413, 0.0, 0.5],\n",
       " 'rotation': [1.0, 0.0, 0.0, 0.0],\n",
       " 'camera_intrinsic': [],\n",
       " 'camera_distortion': []}"
      ]
     },
     "execution_count": 31,
     "metadata": {},
     "output_type": "execute_result"
    }
   ],
   "source": [
    "nusc.calibrated_sensor[0]"
   ]
  },
  {
   "cell_type": "code",
   "execution_count": null,
   "metadata": {},
   "outputs": [],
   "source": []
  }
 ],
 "metadata": {
  "kernelspec": {
   "display_name": "Python 3",
   "language": "python",
   "name": "python3"
  },
  "language_info": {
   "codemirror_mode": {
    "name": "ipython",
    "version": 3
   },
   "file_extension": ".py",
   "mimetype": "text/x-python",
   "name": "python",
   "nbconvert_exporter": "python",
   "pygments_lexer": "ipython3",
   "version": "3.7.1"
  }
 },
 "nbformat": 4,
 "nbformat_minor": 2
}
