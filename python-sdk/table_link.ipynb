{
 "cells": [
  {
   "cell_type": "code",
   "execution_count": 2,
   "metadata": {},
   "outputs": [
    {
     "name": "stdout",
     "output_type": "stream",
     "text": [
      "======\n",
      "Loading NuScenes tables for version v0.1 ...\n",
      "23 category,\n",
      "8 attribute,\n",
      "5 visibility,\n",
      "6975 instance,\n",
      "12 sensor,\n",
      "1200 calibrated_sensor,\n",
      "304715 ego_pose,\n",
      "12 log,\n",
      "100 scene,\n",
      "3977 sample,\n",
      "304715 sample_data,\n",
      "99952 sample_annotation,\n",
      "12 map,\n",
      "Done loading in 5.3 seconds.\n",
      "======\n",
      "Reverse indexing ...\n",
      "Done reverse indexing in 1.5 seconds.\n",
      "======\n"
     ]
    }
   ],
   "source": [
    "# Let's start by initializing the database\n",
    "%matplotlib inline\n",
    "from nuscenes.nuscenes import NuScenes\n",
    "\n",
    "nusc = NuScenes(version='v0.1', dataroot='/data/nuscenes', verbose=True)"
   ]
  },
  {
   "cell_type": "code",
   "execution_count": 19,
   "metadata": {},
   "outputs": [
    {
     "data": {
      "text/plain": [
       "{'token': '9c86d0cc1fd04af3b2000748cec2d9ec',\n",
       " 'sample_token': 'fa2eb1e2c88c45ae84372dd127828b81',\n",
       " 'ego_pose_token': '9c86d0cc1fd04af3b2000748cec2d9ec',\n",
       " 'calibrated_sensor_token': 'de046b6160124a738a0c8a5a65ca807d',\n",
       " 'timestamp': 1531886088428276,\n",
       " 'fileformat': 'pcd',\n",
       " 'is_key_frame': True,\n",
       " 'height': 0,\n",
       " 'width': 0,\n",
       " 'filename': 'samples/RADAR_FRONT_RIGHT/n015-2018-07-18-11-50-34+0800__RADAR_FRONT_RIGHT__1531886088428276.pcd',\n",
       " 'prev': 'eeb564b1ccb045a1aa162e9e999e924b',\n",
       " 'next': '346ba5e66e8f4ba3a96bf3ad0290e093',\n",
       " 'sensor_modality': 'radar',\n",
       " 'channel': 'RADAR_FRONT_RIGHT'}"
      ]
     },
     "execution_count": 19,
     "metadata": {},
     "output_type": "execute_result"
    }
   ],
   "source": [
    "nusc.sample_data[120000]"
   ]
  },
  {
   "cell_type": "code",
   "execution_count": 20,
   "metadata": {},
   "outputs": [
    {
     "data": {
      "text/plain": [
       "{'token': '8c41c6aa88bc45329e34d6a1a5687434',\n",
       " 'sample_token': 'f9878012c3f6412184c294c13ba4bac3',\n",
       " 'instance_token': '61e592dd1f6443c4b0f11ff6a08ff2e7',\n",
       " 'visibility_token': '3',\n",
       " 'attribute_tokens': ['bb9b1072f0d749ccaaec37ee44a1b8f1'],\n",
       " 'translation': [2156.381, 592.638, 1.984],\n",
       " 'size': [0.608, 0.621, 1.311],\n",
       " 'rotation': [0.7071067811865476, 0.0, 0.0, 0.7071067811865475],\n",
       " 'prev': '',\n",
       " 'next': '96618fac54344b9c813a76d90ec743c1',\n",
       " 'category_name': 'human.pedestrian.adult'}"
      ]
     },
     "execution_count": 20,
     "metadata": {},
     "output_type": "execute_result"
    }
   ],
   "source": [
    "nusc.sample_annotation[0]"
   ]
  },
  {
   "cell_type": "code",
   "execution_count": 8,
   "metadata": {},
   "outputs": [
    {
     "data": {
      "text/plain": [
       "{'token': 'f9878012c3f6412184c294c13ba4bac3',\n",
       " 'timestamp': 1526915243047392,\n",
       " 'prev': '',\n",
       " 'next': 'dee909131941447b98da1f253c64c698',\n",
       " 'scene_token': '0d2cc345342a460e94ff54748338ac22',\n",
       " 'data': {'RADAR_FRONT': '4cfd87634ae24097abf5ce3475ce532c',\n",
       "  'RADAR_FRONT_LEFT': '560a38990784438397080ff6f052f824',\n",
       "  'RADAR_FRONT_RIGHT': '130976f06e3b48a2903f77fbb541e23d',\n",
       "  'RADAR_BACK_LEFT': 'bad4513e83b3491b83833b1000a45a0c',\n",
       "  'RADAR_BACK_RIGHT': 'fdde311bf11041c0b4338804359e91de',\n",
       "  'LIDAR_TOP': '4f8f06b5d21d4a3c8fda7a075c0d39bf',\n",
       "  'CAM_FRONT': '1b3c7cc8afd242758266229263ff204a',\n",
       "  'CAM_FRONT_RIGHT': '2ad705761b6242c88b89344261419527',\n",
       "  'CAM_BACK_RIGHT': '992bbebcf53a4b3698b2ab2d18633166',\n",
       "  'CAM_BACK': 'a5401c36dc88439883ff3d4ad23b020e',\n",
       "  'CAM_BACK_LEFT': '7eb36517f6ba4338ad5b14b4ba2ad301',\n",
       "  'CAM_FRONT_LEFT': '678f6f1a10b04127b514264205709710'},\n",
       " 'anns': ['8c41c6aa88bc45329e34d6a1a5687434',\n",
       "  '2e322cc291214ef1971dcaea4d614e4b',\n",
       "  'bb09a013504d4147b405eebe0dc2daf9',\n",
       "  '9ad7bf608d2f4a94bc7a398d5a30b163',\n",
       "  '714d0341f2c34c7a9137912a69590466',\n",
       "  '799fee974d864dce8a395d4525344d8f',\n",
       "  '5b25603e36ec4dec88ee4f64fd2213a8',\n",
       "  '82df452fc4b741e5992b1ff87ac7c07d',\n",
       "  '54f2bbbfab4d4d97b4ca01e2490540cb',\n",
       "  'd302980881ad4cf799c72529ab9646c6',\n",
       "  'b821c9da6fb246dd9c1d504271514c6c',\n",
       "  '71c3a14eb2104f42be9711dc25457233',\n",
       "  '31986d22d2e8453c9625eb56e51ff4ac',\n",
       "  '4b79b03d25904f2ab6777fca57d43272',\n",
       "  '5fd417c54b454f309325da1d6a9f8fe3',\n",
       "  '5995e2d22d4243fea3acb963801ddb9a',\n",
       "  'b80c389e9f864164826f57e7eed97e43',\n",
       "  '848315eda56245fb884de81ad1d6ec9d',\n",
       "  '8c9592d481ea408faef969302ba73b9d',\n",
       "  '5f21a2bc6e354ef2ae62e0fcdfe2a74b',\n",
       "  '8be5c570eaa64a4c81d6e9754e360d89',\n",
       "  'a51ccc036bbc45c198255b43977e1739',\n",
       "  '2524a63b8742487b9d5d55fac8261a35',\n",
       "  '06439a56161d44eea49b1dd19d26dd0e',\n",
       "  '081ab1220f8e49d1a2a1753a05a6a65d',\n",
       "  '7a3c9367ec534564b7be6ec470cbcaef',\n",
       "  'f59e886dd0664e2694c463810b7c8ef4',\n",
       "  '2c68ffe9dc3b4c3288e25f7bc2757d89',\n",
       "  '98a1258bdafe4bec821f056110a9cddc',\n",
       "  'e6859d2be98b4208820b37efe0143150',\n",
       "  '361de0d0ac6444b5aa48c5481f31dc11',\n",
       "  'ab658c08ba764e83ae96cf3dcef29b02',\n",
       "  '4cc77180cbcd4c08b666d22c0e0b87dc',\n",
       "  'd5c0e1faa8264a9597cbf085edc101c6',\n",
       "  'c1db747bb02546198122987ebf8c7d4d',\n",
       "  '25d04fcdb5364b6ab65b607eabe2be73',\n",
       "  '5e5f67f72a1041b99430a079f90105ec',\n",
       "  'a583b8d590154fc1ad217fecb844f6d4',\n",
       "  '4d8a53a3cae94b18ae2a6ac941673115',\n",
       "  'e64918ee5cd74fb7b76552bc26acf1c7',\n",
       "  '0b2edd44f6e34cc287b37464a930083e',\n",
       "  '7ea3bd016df241df86545f4e23086260',\n",
       "  '4e9a88be71ad4f03ac6204254b66c9d2',\n",
       "  '25a3c3744fb44d05ba92a672ae6562ba']}"
      ]
     },
     "execution_count": 8,
     "metadata": {},
     "output_type": "execute_result"
    }
   ],
   "source": [
    "nusc.get('sample', 'f9878012c3f6412184c294c13ba4bac3')"
   ]
  },
  {
   "cell_type": "code",
   "execution_count": 6,
   "metadata": {},
   "outputs": [
    {
     "data": {
      "text/plain": [
       "{'token': '53c65b80ae5d4fcd9acfbd0262429a6b',\n",
       " 'sample_token': 'dee909131941447b98da1f253c64c698',\n",
       " 'ego_pose_token': '53c65b80ae5d4fcd9acfbd0262429a6b',\n",
       " 'calibrated_sensor_token': 'db76cb0b23884ba4ad1a861593b667b6',\n",
       " 'timestamp': 1526915243117404,\n",
       " 'fileformat': 'pcd',\n",
       " 'is_key_frame': False,\n",
       " 'height': 0,\n",
       " 'width': 0,\n",
       " 'filename': 'sweeps/RADAR_FRONT/n008-2018-05-21-11-06-59-0400__RADAR_FRONT__1526915243117404.pcd',\n",
       " 'prev': '4cfd87634ae24097abf5ce3475ce532c',\n",
       " 'next': '539e5beb913044238ab9cdb32f6c936c',\n",
       " 'sensor_modality': 'radar',\n",
       " 'channel': 'RADAR_FRONT'}"
      ]
     },
     "execution_count": 6,
     "metadata": {},
     "output_type": "execute_result"
    }
   ],
   "source": [
    "sd_record = nusc.get('sample_data', '53c65b80ae5d4fcd9acfbd0262429a6b')\n",
    "sd_record"
   ]
  },
  {
   "cell_type": "code",
   "execution_count": 21,
   "metadata": {},
   "outputs": [
    {
     "data": {
      "text/plain": [
       "{'token': '1fa93b757fc74fb197cdd60001ad8abf',\n",
       " 'name': 'human.pedestrian.adult',\n",
       " 'description': 'Adult subcategory.'}"
      ]
     },
     "execution_count": 21,
     "metadata": {},
     "output_type": "execute_result"
    }
   ],
   "source": [
    "nusc.category[0]"
   ]
  },
  {
   "cell_type": "code",
   "execution_count": 22,
   "metadata": {},
   "outputs": [
    {
     "data": {
      "text/plain": [
       "{'token': '5bf213e988274e8aaf58215363806c0e',\n",
       " 'category_token': '6021b5187b924d64be64a702e5570edf',\n",
       " 'nbr_annotations': 40,\n",
       " 'first_annotation_token': 'd302980881ad4cf799c72529ab9646c6',\n",
       " 'last_annotation_token': 'a4847aa5cc154eb3972c22b3743d7fe3'}"
      ]
     },
     "execution_count": 22,
     "metadata": {},
     "output_type": "execute_result"
    }
   ],
   "source": [
    "nusc.instance[0]"
   ]
  },
  {
   "cell_type": "code",
   "execution_count": 38,
   "metadata": {},
   "outputs": [
    {
     "data": {
      "text/plain": [
       "{'token': 'd302980881ad4cf799c72529ab9646c6',\n",
       " 'sample_token': 'f9878012c3f6412184c294c13ba4bac3',\n",
       " 'instance_token': '5bf213e988274e8aaf58215363806c0e',\n",
       " 'visibility_token': '2',\n",
       " 'attribute_tokens': ['7481fa12807040feabeb66d8e23996ec'],\n",
       " 'translation': [2174.012, 611.723, 1.065],\n",
       " 'size': [2.103, 5.554, 1.87],\n",
       " 'rotation': [0.7074676732669855, 0.0, 0.0, -0.7067457048204806],\n",
       " 'prev': '',\n",
       " 'next': 'b42ed3bf5e7a41bda5ae028297b2bc15',\n",
       " 'category_name': 'vehicle.truck'}"
      ]
     },
     "execution_count": 38,
     "metadata": {},
     "output_type": "execute_result"
    }
   ],
   "source": [
    "nusc.get('sample_annotation', 'd302980881ad4cf799c72529ab9646c6')"
   ]
  },
  {
   "cell_type": "code",
   "execution_count": 23,
   "metadata": {},
   "outputs": [
    {
     "data": {
      "text/plain": [
       "{'description': 'visibility of whole object is between 0 and 20%',\n",
       " 'token': '0',\n",
       " 'level': 'v0-20'}"
      ]
     },
     "execution_count": 23,
     "metadata": {},
     "output_type": "execute_result"
    }
   ],
   "source": [
    "nusc.visibility[0]"
   ]
  },
  {
   "cell_type": "code",
   "execution_count": 24,
   "metadata": {},
   "outputs": [
    {
     "data": {
      "text/plain": [
       "{'token': 'f9878012c3f6412184c294c13ba4bac3',\n",
       " 'timestamp': 1526915243047392,\n",
       " 'prev': '',\n",
       " 'next': 'dee909131941447b98da1f253c64c698',\n",
       " 'scene_token': '0d2cc345342a460e94ff54748338ac22',\n",
       " 'data': {'RADAR_FRONT': '4cfd87634ae24097abf5ce3475ce532c',\n",
       "  'RADAR_FRONT_LEFT': '560a38990784438397080ff6f052f824',\n",
       "  'RADAR_FRONT_RIGHT': '130976f06e3b48a2903f77fbb541e23d',\n",
       "  'RADAR_BACK_LEFT': 'bad4513e83b3491b83833b1000a45a0c',\n",
       "  'RADAR_BACK_RIGHT': 'fdde311bf11041c0b4338804359e91de',\n",
       "  'LIDAR_TOP': '4f8f06b5d21d4a3c8fda7a075c0d39bf',\n",
       "  'CAM_FRONT': '1b3c7cc8afd242758266229263ff204a',\n",
       "  'CAM_FRONT_RIGHT': '2ad705761b6242c88b89344261419527',\n",
       "  'CAM_BACK_RIGHT': '992bbebcf53a4b3698b2ab2d18633166',\n",
       "  'CAM_BACK': 'a5401c36dc88439883ff3d4ad23b020e',\n",
       "  'CAM_BACK_LEFT': '7eb36517f6ba4338ad5b14b4ba2ad301',\n",
       "  'CAM_FRONT_LEFT': '678f6f1a10b04127b514264205709710'},\n",
       " 'anns': ['8c41c6aa88bc45329e34d6a1a5687434',\n",
       "  '2e322cc291214ef1971dcaea4d614e4b',\n",
       "  'bb09a013504d4147b405eebe0dc2daf9',\n",
       "  '9ad7bf608d2f4a94bc7a398d5a30b163',\n",
       "  '714d0341f2c34c7a9137912a69590466',\n",
       "  '799fee974d864dce8a395d4525344d8f',\n",
       "  '5b25603e36ec4dec88ee4f64fd2213a8',\n",
       "  '82df452fc4b741e5992b1ff87ac7c07d',\n",
       "  '54f2bbbfab4d4d97b4ca01e2490540cb',\n",
       "  'd302980881ad4cf799c72529ab9646c6',\n",
       "  'b821c9da6fb246dd9c1d504271514c6c',\n",
       "  '71c3a14eb2104f42be9711dc25457233',\n",
       "  '31986d22d2e8453c9625eb56e51ff4ac',\n",
       "  '4b79b03d25904f2ab6777fca57d43272',\n",
       "  '5fd417c54b454f309325da1d6a9f8fe3',\n",
       "  '5995e2d22d4243fea3acb963801ddb9a',\n",
       "  'b80c389e9f864164826f57e7eed97e43',\n",
       "  '848315eda56245fb884de81ad1d6ec9d',\n",
       "  '8c9592d481ea408faef969302ba73b9d',\n",
       "  '5f21a2bc6e354ef2ae62e0fcdfe2a74b',\n",
       "  '8be5c570eaa64a4c81d6e9754e360d89',\n",
       "  'a51ccc036bbc45c198255b43977e1739',\n",
       "  '2524a63b8742487b9d5d55fac8261a35',\n",
       "  '06439a56161d44eea49b1dd19d26dd0e',\n",
       "  '081ab1220f8e49d1a2a1753a05a6a65d',\n",
       "  '7a3c9367ec534564b7be6ec470cbcaef',\n",
       "  'f59e886dd0664e2694c463810b7c8ef4',\n",
       "  '2c68ffe9dc3b4c3288e25f7bc2757d89',\n",
       "  '98a1258bdafe4bec821f056110a9cddc',\n",
       "  'e6859d2be98b4208820b37efe0143150',\n",
       "  '361de0d0ac6444b5aa48c5481f31dc11',\n",
       "  'ab658c08ba764e83ae96cf3dcef29b02',\n",
       "  '4cc77180cbcd4c08b666d22c0e0b87dc',\n",
       "  'd5c0e1faa8264a9597cbf085edc101c6',\n",
       "  'c1db747bb02546198122987ebf8c7d4d',\n",
       "  '25d04fcdb5364b6ab65b607eabe2be73',\n",
       "  '5e5f67f72a1041b99430a079f90105ec',\n",
       "  'a583b8d590154fc1ad217fecb844f6d4',\n",
       "  '4d8a53a3cae94b18ae2a6ac941673115',\n",
       "  'e64918ee5cd74fb7b76552bc26acf1c7',\n",
       "  '0b2edd44f6e34cc287b37464a930083e',\n",
       "  '7ea3bd016df241df86545f4e23086260',\n",
       "  '4e9a88be71ad4f03ac6204254b66c9d2',\n",
       "  '25a3c3744fb44d05ba92a672ae6562ba']}"
      ]
     },
     "execution_count": 24,
     "metadata": {},
     "output_type": "execute_result"
    }
   ],
   "source": [
    "nusc.sample[0]"
   ]
  },
  {
   "cell_type": "code",
   "execution_count": 25,
   "metadata": {},
   "outputs": [
    {
     "data": {
      "text/plain": [
       "{'token': '0d2cc345342a460e94ff54748338ac22',\n",
       " 'log_token': 'b05f285d53744542a3413476d6dd9270',\n",
       " 'nbr_samples': 40,\n",
       " 'first_sample_token': 'f9878012c3f6412184c294c13ba4bac3',\n",
       " 'last_sample_token': 'a4ceea9b48de456e96bcc347c81c2338',\n",
       " 'name': 'scene-0161',\n",
       " 'description': ''}"
      ]
     },
     "execution_count": 25,
     "metadata": {},
     "output_type": "execute_result"
    }
   ],
   "source": [
    "nusc.scene[0]"
   ]
  },
  {
   "cell_type": "code",
   "execution_count": 26,
   "metadata": {},
   "outputs": [
    {
     "data": {
      "text/plain": [
       "{'token': 'b05f285d53744542a3413476d6dd9270',\n",
       " 'logfile': 'n008-2018-05-21-11-06-59-0400',\n",
       " 'vehicle': 'n008',\n",
       " 'date_captured': '2018-05-21',\n",
       " 'location': 'boston-seaport',\n",
       " 'map_token': 'b05f285d53744542a3413476d6dd9270'}"
      ]
     },
     "execution_count": 26,
     "metadata": {},
     "output_type": "execute_result"
    }
   ],
   "source": [
    "nusc.log[0]"
   ]
  },
  {
   "cell_type": "code",
   "execution_count": 27,
   "metadata": {},
   "outputs": [
    {
     "data": {
      "text/plain": [
       "{'filename': 'maps/b05f285d53744542a3413476d6dd9270.semantic_prior.png',\n",
       " 'category': 'semantic_prior',\n",
       " 'log_token': 'b05f285d53744542a3413476d6dd9270',\n",
       " 'token': 'b05f285d53744542a3413476d6dd9270',\n",
       " 'mask': <nuscenes.utils.map_mask.MapMask at 0x7f09ea684c88>}"
      ]
     },
     "execution_count": 27,
     "metadata": {},
     "output_type": "execute_result"
    }
   ],
   "source": [
    "nusc.map[0]"
   ]
  },
  {
   "cell_type": "code",
   "execution_count": 28,
   "metadata": {},
   "outputs": [
    {
     "data": {
      "text/plain": [
       "{'token': 'a978f9793a594d11860e9cf7962996d7',\n",
       " 'name': 'vehicle.moving',\n",
       " 'description': 'Vehicle is moving.'}"
      ]
     },
     "execution_count": 28,
     "metadata": {},
     "output_type": "execute_result"
    }
   ],
   "source": [
    "nusc.attribute[0]"
   ]
  },
  {
   "cell_type": "code",
   "execution_count": 29,
   "metadata": {},
   "outputs": [
    {
     "data": {
      "text/plain": [
       "{'token': '725903f5b62f56118f4094b46a4470d8',\n",
       " 'channel': 'CAM_FRONT',\n",
       " 'modality': 'camera'}"
      ]
     },
     "execution_count": 29,
     "metadata": {},
     "output_type": "execute_result"
    }
   ],
   "source": [
    "nusc.sensor[0]"
   ]
  },
  {
   "cell_type": "code",
   "execution_count": 30,
   "metadata": {},
   "outputs": [
    {
     "data": {
      "text/plain": [
       "{'token': '4cfd87634ae24097abf5ce3475ce532c',\n",
       " 'timestamp': 1526915243042374,\n",
       " 'rotation': [0.9997239430277377,\n",
       "  8.603733301167676e-05,\n",
       "  0.006933819960279533,\n",
       "  0.022448885838926923],\n",
       " 'translation': [2149.4598475997677, 603.3061194452616, 0.0]}"
      ]
     },
     "execution_count": 30,
     "metadata": {},
     "output_type": "execute_result"
    }
   ],
   "source": [
    "nusc.ego_pose[0]"
   ]
  },
  {
   "cell_type": "code",
   "execution_count": 31,
   "metadata": {},
   "outputs": [
    {
     "data": {
      "text/plain": [
       "{'token': 'db76cb0b23884ba4ad1a861593b667b6',\n",
       " 'sensor_token': '47fcd48f71d75e0da5c8c1704a9bfe0a',\n",
       " 'translation': [3.413, 0.0, 0.5],\n",
       " 'rotation': [1.0, 0.0, 0.0, 0.0],\n",
       " 'camera_intrinsic': [],\n",
       " 'camera_distortion': []}"
      ]
     },
     "execution_count": 31,
     "metadata": {},
     "output_type": "execute_result"
    }
   ],
   "source": [
    "nusc.calibrated_sensor[0]"
   ]
  },
  {
   "cell_type": "code",
   "execution_count": 13,
   "metadata": {},
   "outputs": [
    {
     "name": "stdout",
     "output_type": "stream",
     "text": [
      "scene-0161,      [18-05-21 15:07:23]   19s, boston-seaport, #anns:1970\n",
      "scene-0162,      [18-05-21 15:07:43]   19s, boston-seaport, #anns:2230\n",
      "scene-0163,      [18-05-21 15:08:03]   19s, boston-seaport, #anns:1585\n",
      "scene-0164,      [18-05-21 15:08:38]   19s, boston-seaport, #anns:745\n",
      "scene-0165,      [18-05-21 15:09:15]   19s, boston-seaport, #anns:1423\n",
      "scene-0166,      [18-05-21 15:09:35]   19s, boston-seaport, #anns:1313\n",
      "scene-0167,      [18-05-21 15:10:13]   19s, boston-seaport, #anns:1455\n",
      "scene-0168,      [18-05-21 15:10:52]   19s, boston-seaport, #anns:1751\n",
      "scene-0169,      [18-05-21 15:13:30]   19s, boston-seaport, #anns:1649\n",
      "scene-0170,      [18-05-21 15:13:37]   19s, boston-seaport, #anns:1430\n",
      "scene-0171,      [18-05-21 15:13:57]   19s, boston-seaport, #anns:1149\n",
      "scene-0172,      [18-05-21 15:14:17]   19s, boston-seaport, #anns:643\n",
      "scene-0173,      [18-05-21 15:14:37]   19s, boston-seaport, #anns:1835\n",
      "scene-0174,      [18-05-21 15:14:57]   19s, boston-seaport, #anns:1714\n",
      "scene-0175,      [18-05-21 15:15:19]   19s, boston-seaport, #anns:1677\n",
      "scene-0176,      [18-05-21 15:16:17]   19s, boston-seaport, #anns:634\n",
      "scene-0001,      [18-07-18 03:12:10]   19s, singapore-onenorth, #anns:492\n",
      "scene-0002,      [18-07-18 03:15:19]   20s, singapore-onenorth, #anns:1092\n",
      "scene-0004,      [18-07-18 03:19:45]   19s, singapore-onenorth, #anns:2657\n",
      "scene-0005,      [18-07-18 03:21:44]   19s, singapore-onenorth, #anns:1005\n",
      "scene-0006,      [18-07-18 03:22:36]   19s, singapore-onenorth, #anns:2027\n",
      "scene-0007,      [18-07-18 03:24:18]   19s, singapore-onenorth, #anns:738\n",
      "scene-0008,      [18-07-18 03:24:37]   19s, singapore-onenorth, #anns:609\n",
      "scene-0009,      [18-07-18 03:24:57]   19s, singapore-onenorth, #anns:308\n",
      "scene-0010,      [18-07-18 03:26:31]   19s, singapore-onenorth, #anns:365\n",
      "scene-0011,      [18-07-18 03:28:45]   20s, singapore-onenorth, #anns:765\n",
      "scene-0012,      [18-07-18 03:42:00]   19s, singapore-onenorth, #anns:96\n",
      "scene-0013,      [18-07-18 03:42:20]   19s, singapore-onenorth, #anns:338\n",
      "scene-0014,      [18-07-18 03:43:17]   19s, singapore-onenorth, #anns:94\n",
      "scene-0015,      [18-07-18 03:43:37]   19s, singapore-onenorth, #anns:413\n",
      "scene-0016,      [18-07-18 03:46:53]   19s, singapore-onenorth, #anns:943\n",
      "scene-0017,      [18-07-18 03:49:25]   19s, singapore-onenorth, #anns:2198\n",
      "scene-0018,      [18-07-18 03:49:52]   19s, singapore-onenorth, #anns:2350\n",
      "scene-0019,      [18-07-18 03:51:02]   19s, singapore-onenorth, #anns:1887\n",
      "scene-0020,      [18-07-18 03:51:47]   19s, singapore-onenorth, #anns:615\n",
      "scene-0021,      [18-07-18 03:52:57]   19s, singapore-onenorth, #anns:1547\n",
      "scene-0022,      [18-07-18 03:53:18]   19s, singapore-onenorth, #anns:1866\n",
      "scene-0023,      [18-07-18 03:53:41]   19s, singapore-onenorth, #anns:446\n",
      "scene-0024,      [18-07-18 03:54:04]   19s, singapore-onenorth, #anns:656\n",
      "scene-0025,      [18-07-18 03:54:29]   19s, singapore-onenorth, #anns:894\n",
      "scene-0026,      [18-07-18 03:54:49]   19s, singapore-onenorth, #anns:925\n",
      "scene-0027,      [18-07-18 03:55:18]   19s, singapore-onenorth, #anns:743\n",
      "scene-0028,      [18-07-18 03:55:38]   19s, singapore-onenorth, #anns:1008\n",
      "scene-0029,      [18-07-18 03:55:58]   19s, singapore-onenorth, #anns:1395\n",
      "scene-0030,      [18-07-18 03:56:37]   19s, singapore-onenorth, #anns:746\n",
      "scene-0031,      [18-07-18 03:57:02]   19s, singapore-onenorth, #anns:572\n",
      "scene-0032,      [18-07-18 03:57:22]   19s, singapore-onenorth, #anns:131\n",
      "scene-0033,      [18-07-18 03:58:42]   19s, singapore-onenorth, #anns:189\n",
      "scene-0034,      [18-07-18 03:59:42]   19s, singapore-onenorth, #anns:95\n",
      "scene-0035,      [18-07-24 02:43:03]   19s, singapore-onenorth, #anns:900\n",
      "scene-0036,      [18-07-24 02:43:46]   19s, singapore-onenorth, #anns:1441\n",
      "scene-0037,      [18-07-24 02:44:46]   19s, singapore-onenorth, #anns:374\n",
      "scene-0038,      [18-07-24 02:45:39]   20s, singapore-onenorth, #anns:404\n",
      "scene-0039,      [18-07-24 02:48:33]   19s, singapore-onenorth, #anns:700\n",
      "scene-0040,      [18-07-24 03:04:14]   19s, singapore-onenorth, #anns:165\n",
      "scene-0041,      [18-07-24 03:04:50]   19s, singapore-onenorth, #anns:486\n",
      "scene-0043,      [18-07-24 03:06:49]   19s, singapore-onenorth, #anns:1646\n",
      "scene-0044,      [18-07-24 03:09:19]   19s, singapore-onenorth, #anns:342\n",
      "scene-0045,      [18-07-24 03:13:22]   19s, singapore-onenorth, #anns:1620\n",
      "scene-0046,      [18-07-24 03:14:02]   19s, singapore-onenorth, #anns:1695\n",
      "scene-0047,      [18-07-24 03:15:33]   19s, singapore-onenorth, #anns:1851\n",
      "scene-0048,      [18-07-24 03:15:56]   19s, singapore-onenorth, #anns:973\n",
      "scene-0049,      [18-07-24 03:16:16]   19s, singapore-onenorth, #anns:1307\n",
      "scene-0050,      [18-07-24 03:17:59]   19s, singapore-onenorth, #anns:436\n",
      "scene-0051,      [18-07-24 03:18:26]   19s, singapore-onenorth, #anns:597\n",
      "scene-0052,      [18-07-24 03:18:46]   19s, singapore-onenorth, #anns:296\n",
      "scene-0053,      [18-07-24 03:20:18]   19s, singapore-onenorth, #anns:656\n",
      "scene-0054,      [18-07-24 03:21:12]   19s, singapore-onenorth, #anns:532\n",
      "scene-0055,      [18-07-24 03:23:03]   19s, singapore-onenorth, #anns:378\n",
      "scene-0056,      [18-07-24 03:25:21]   20s, singapore-onenorth, #anns:287\n",
      "scene-0057,      [18-07-24 03:25:41]   19s, singapore-onenorth, #anns:565\n",
      "scene-0058,      [18-07-24 03:26:55]   19s, singapore-onenorth, #anns:1330\n",
      "scene-0059,      [18-07-24 03:27:35]   19s, singapore-onenorth, #anns:421\n",
      "scene-0060,      [18-07-24 03:27:55]   19s, singapore-onenorth, #anns:274\n",
      "scene-0061,      [18-07-24 03:28:47]   19s, singapore-onenorth, #anns:3287\n",
      "scene-0120,      [18-08-01 08:33:08]   20s, singapore-onenorth, #anns:1352\n",
      "scene-0121,      [18-08-01 08:35:31]   19s, singapore-onenorth, #anns:326\n",
      "scene-0122,      [18-08-01 08:36:56]   19s, singapore-onenorth, #anns:229\n",
      "scene-0123,      [18-08-01 08:38:18]   20s, singapore-onenorth, #anns:254\n",
      "scene-0124,      [18-08-01 08:38:40]   19s, singapore-onenorth, #anns:1078\n",
      "scene-0125,      [18-08-01 08:39:00]   19s, singapore-onenorth, #anns:611\n",
      "scene-0126,      [18-08-01 08:39:22]   19s, singapore-onenorth, #anns:466\n",
      "scene-0127,      [18-08-01 08:39:48]   20s, singapore-onenorth, #anns:1335\n",
      "scene-0128,      [18-08-01 08:40:28]   19s, singapore-onenorth, #anns:832\n",
      "scene-0129,      [18-08-01 08:40:50]   19s, singapore-onenorth, #anns:1296\n",
      "scene-0130,      [18-08-01 08:42:07]   19s, singapore-onenorth, #anns:1583\n",
      "scene-0131,      [18-08-01 08:42:27]   19s, singapore-onenorth, #anns:926\n",
      "scene-0132,      [18-08-01 08:42:47]   19s, singapore-onenorth, #anns:876\n",
      "scene-0133,      [18-08-01 08:43:07]   19s, singapore-onenorth, #anns:1353\n",
      "scene-0134,      [18-08-01 08:43:34]   19s, singapore-onenorth, #anns:762\n",
      "scene-0135,      [18-08-01 08:43:54]   19s, singapore-onenorth, #anns:878\n",
      "scene-0136,      [18-08-01 08:44:35]   19s, singapore-onenorth, #anns:821\n",
      "scene-0137,      [18-08-01 08:46:16]   19s, singapore-onenorth, #anns:60\n",
      "scene-0138,      [18-08-01 08:47:14]   19s, singapore-onenorth, #anns:265\n",
      "scene-0139,      [18-08-01 08:49:39]   19s, singapore-onenorth, #anns:483\n",
      "scene-0092,      [18-08-01 19:17:41]   19s, boston-seaport, #anns:1263\n",
      "scene-0093,      [18-08-01 19:19:42]   19s, boston-seaport, #anns:1227\n",
      "scene-0094,      [18-08-01 19:20:03]   19s, boston-seaport, #anns:639\n",
      "scene-0095,      [18-08-01 19:20:49]   19s, boston-seaport, #anns:899\n",
      "scene-0096,      [18-08-01 19:21:09]   19s, boston-seaport, #anns:1647\n"
     ]
    },
    {
     "data": {
      "text/plain": [
       "NoneType"
      ]
     },
     "execution_count": 13,
     "metadata": {},
     "output_type": "execute_result"
    }
   ],
   "source": [
    "a = nusc.list_scenes()\n",
    "type(a)"
   ]
  }
 ],
 "metadata": {
  "kernelspec": {
   "display_name": "Python 3",
   "language": "python",
   "name": "python3"
  },
  "language_info": {
   "codemirror_mode": {
    "name": "ipython",
    "version": 3
   },
   "file_extension": ".py",
   "mimetype": "text/x-python",
   "name": "python",
   "nbconvert_exporter": "python",
   "pygments_lexer": "ipython3",
   "version": "3.7.1"
  }
 },
 "nbformat": 4,
 "nbformat_minor": 2
}
