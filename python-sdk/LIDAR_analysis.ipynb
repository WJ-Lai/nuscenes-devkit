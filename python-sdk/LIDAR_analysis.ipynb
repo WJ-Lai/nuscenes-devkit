{
 "cells": [
  {
   "cell_type": "code",
   "execution_count": 1,
   "metadata": {},
   "outputs": [
    {
     "name": "stdout",
     "output_type": "stream",
     "text": [
      "======\n",
      "Loading NuScenes tables for version v0.1 ...\n",
      "23 category,\n",
      "8 attribute,\n",
      "5 visibility,\n",
      "6975 instance,\n",
      "12 sensor,\n",
      "1200 calibrated_sensor,\n",
      "304715 ego_pose,\n",
      "12 log,\n",
      "100 scene,\n",
      "3977 sample,\n",
      "304715 sample_data,\n",
      "99952 sample_annotation,\n",
      "12 map,\n",
      "Done loading in 4.7 seconds.\n",
      "======\n",
      "Reverse indexing ...\n",
      "Done reverse indexing in 1.3 seconds.\n",
      "======\n"
     ]
    }
   ],
   "source": [
    "# Let's start by initializing the database\n",
    "# matplotlib inline\n",
    "from nuscenes.nuscenes import NuScenes\n",
    "import numpy as np\n",
    "import matplotlib.pyplot as plt\n",
    "import pcl\n",
    "\n",
    "nusc = NuScenes(version='v0.1', dataroot='/data/nuscenes', verbose=True)\n"
   ]
  },
  {
   "cell_type": "code",
   "execution_count": 32,
   "metadata": {},
   "outputs": [],
   "source": [
    "# show picture\n",
    "filename = 'pic_tmp'\n",
    "nusc.render_pointcloud_channel(filename)"
   ]
  },
  {
   "cell_type": "code",
   "execution_count": 35,
   "metadata": {},
   "outputs": [],
   "source": [
    "# show picture\n",
    "filename = 'pre_tmp'\n",
    "nusc.render_pointcloud_channel(filename)"
   ]
  },
  {
   "cell_type": "code",
   "execution_count": 25,
   "metadata": {},
   "outputs": [
    {
     "name": "stdout",
     "output_type": "stream",
     "text": [
      "3388933b59444c5db71fade0bbfef470\n",
      "69b793ec8dc44e2fbd33d8cdd16b5a31\n",
      "ec310d318e6a46c08c43311dd898f0a5\n",
      "06cc88304ecb463380e56863539bc75d\n",
      "66adb5d922e74abb83d552d209e95849\n",
      "e68c66ab18ac4e049321ba61591496b0\n",
      "a120c8986a4d432ab34e962189c7c330\n",
      "52b16c3d37494892a27d66a1bce8f04b\n",
      "30af13f6e00747998fc4a4f4fe7734d2\n",
      "79291513f7244f0996d60c351fd96186\n",
      "a542598b82e64f46b46d749d95ca3933\n",
      "59bdcf05093f46d79e149e35d0090126\n",
      "e17d40d53225461d87d40a97f18eb0c2\n",
      "d001097c1fd340f3aad2cca489bec144\n",
      "8bf1b6f0c89d47be9f1b9c579c2f1d5b\n",
      "7bbc029e26bf40678c8b7f3fc745e51b\n",
      "b73788ceab7745ae8b1c2e12076f4288\n",
      "41fd83cefd8243a3af126742044f8f49\n",
      "49730fe120bf41b48eaaa297859b213c\n",
      "cad306a971704749aae7674f5cd4f2f4\n",
      "946b839480be46a3ae1ddcb359079f6d\n",
      "547edb3469e44961ba68b3955046c8d6\n",
      "155a5109b4594be0aaf98105928459af\n",
      "737e1201992b4a8e9648b0b2208c994d\n",
      "ee33166a237a49a4997bedfb007c95f9\n",
      "c755a558e8da407abd92a31689a4f08a\n",
      "93958a30168143c8abee5a8c29c89f49\n",
      "dd1e2e1c6272428ea6425bba3802e2b7\n",
      "075bae7969754f2c959a2d2a61bcb481\n",
      "2d9546d036384151b33d9c584053d0df\n",
      "9a11ac9395934a6a9f18076328a9eb5f\n",
      "2ad4b455186c472890e40eac330c2a0f\n",
      "1fb4ea635d6e4f6c963adf770b31a0be\n",
      "cfb01344b1e84b6b9422c27cc912d1d3\n",
      "cc26881d8d6948ce99cea24866bff0bb\n",
      "5c666154e4a34fb88a9da70fcd11cba1\n",
      "285ca90ba16d4fad8574e5e150ba4eee\n",
      "559e5e4fd8ff40849ef7e6ce7b815f36\n",
      "c4b984e9dc8940b5ba6c851ce217b26a\n",
      "cf8803a6a2b74fe5be5e4ee3c7058ca4\n"
     ]
    }
   ],
   "source": [
    "# Get test token\n",
    "my_scene_token = nusc.field2token('scene', 'name', 'scene-0001')[0]\n",
    "scene_rec = nusc.get('scene',my_scene_token)\n",
    "sample_rec = nusc.get('sample',scene_rec['first_sample_token'])\n",
    "sample_token_list = nusc.save_sample_token(sample_rec['token'])\n",
    "\n",
    "for sample_id in sample_token_list:\n",
    "    sm_rec = nusc.get('sample',sample_id)\n",
    "    print(sm_rec['data']['LIDAR_TOP'])"
   ]
  },
  {
   "cell_type": "code",
   "execution_count": 16,
   "metadata": {},
   "outputs": [
    {
     "data": {
      "image/png": "[encoded data removed]",
      "text/plain": [
       "<Figure size 648x648 with 1 Axes>"
      ]
     },
     "metadata": {
      "needs_background": "light"
     },
     "output_type": "display_data"
    }
   ],
   "source": [
    "# Get points data\n",
    "# points = nusc.get_pointcloud_position(sample_rec['data']['LIDAR_TOP'])\n",
    "points = nusc.get_pointcloud_position(sm_rec['data']['RADAR_FRONT'])"
   ]
  },
  {
   "cell_type": "code",
   "execution_count": 17,
   "metadata": {},
   "outputs": [],
   "source": [
    "import pcl\n",
    "import numpy as np\n",
    "import scipy.io as scio\n",
    "points_fig = points\n",
    "scio.savemat('pointcloud_fig.mat', {'A':points})\n",
    "points = points.astype(np.float32)\n",
    "scio.savemat('pointcloud.mat', {'A':points})\n",
    "cloud = pcl.PointCloud(points.T)"
   ]
  },
  {
   "cell_type": "code",
   "execution_count": 18,
   "metadata": {},
   "outputs": [],
   "source": [
    "# save as mat\n",
    "# import scipy.io as scio\n",
    "# scio.savemat('pointcloud.mat', {'A':points})"
   ]
  },
  {
   "cell_type": "code",
   "execution_count": 19,
   "metadata": {},
   "outputs": [
    {
     "name": "stdout",
     "output_type": "stream",
     "text": [
      "cluster_indices : <built-in method count of list object at 0x7f2e4bcc5348> count.\n"
     ]
    }
   ],
   "source": [
    "# -*- coding: utf-8 -*-\n",
    "# Euclidean Cluster Extraction\n",
    "# http://pointclouds.org/documentation/tutorials/cluster_extraction.php#cluster-extraction\n",
    "import numpy as np\n",
    "import pcl\n",
    "import scipy.io as scio\n",
    "\n",
    "# int main (int argc, char** argv)\n",
    "# {\n",
    "#   // Read in the cloud data\n",
    "#   pcl::PCDReader reader;\n",
    "#   pcl::PointCloud<pcl::PointXYZ>::Ptr cloud (new pcl::PointCloud<pcl::PointXYZ>), cloud_f (new pcl::PointCloud<pcl::PointXYZ>);\n",
    "#   reader.read (\"table_scene_lms400.pcd\", *cloud);\n",
    "#   std::cout << \"PointCloud before filtering has: \" << cloud->points.size () << \" data points.\" << std::endl; //*\n",
    "\n",
    "#   // Create the filtering object: downsample the dataset using a leaf size of 1cm\n",
    "#   pcl::VoxelGrid<pcl::PointXYZ> vg;\n",
    "#   pcl::PointCloud<pcl::PointXYZ>::Ptr cloud_filtered (new pcl::PointCloud<pcl::PointXYZ>);\n",
    "#   vg.setInputCloud (cloud);\n",
    "#   vg.setLeafSize (0.01f, 0.01f, 0.01f);\n",
    "#   vg.filter (*cloud_filtered);\n",
    "#   std::cout << \"PointCloud after filtering has: \" << cloud_filtered->points.size ()  << \" data points.\" << std::endl; //*\n",
    "vg = cloud.make_voxel_grid_filter()\n",
    "vg.set_leaf_size (0.01, 0.01, 0.01)\n",
    "cloud_filtered = vg.filter ()\n",
    "\n",
    "#   // Create the segmentation object for the planar model and set all the parameters\n",
    "#   pcl::SACSegmentation<pcl::PointXYZ> seg;\n",
    "#   pcl::PointIndices::Ptr inliers (new pcl::PointIndices);\n",
    "#   pcl::ModelCoefficients::Ptr coefficients (new pcl::ModelCoefficients);\n",
    "#   pcl::PointCloud<pcl::PointXYZ>::Ptr cloud_plane (new pcl::PointCloud<pcl::PointXYZ> ());\n",
    "#   pcl::PCDWriter writer;\n",
    "#   seg.setOptimizeCoefficients (true);\n",
    "#   seg.setModelType (pcl::SACMODEL_PLANE);\n",
    "#   seg.setMethodType (pcl::SAC_RANSAC);\n",
    "#   seg.setMaxIterations (100);\n",
    "#   seg.setDistanceThreshold (0.02);\n",
    "seg = cloud.make_segmenter()\n",
    "seg.set_optimize_coefficients (True)\n",
    "seg.set_model_type (pcl.SACMODEL_PLANE)\n",
    "seg.set_method_type (pcl.SAC_RANSAC)\n",
    "seg.set_MaxIterations (100)\n",
    "seg.set_distance_threshold (0.02)\n",
    "\n",
    "#   int i=0, nr_points = (int) cloud_filtered->points.size ();\n",
    "#   while (cloud_filtered->points.size () > 0.3 * nr_points)\n",
    "#   {\n",
    "#     // Segment the largest planar component from the remaining cloud\n",
    "#     seg.setInputCloud (cloud_filtered);\n",
    "#     seg.segment (*inliers, *coefficients);\n",
    "#     if (inliers->indices.size () == 0)\n",
    "#     {\n",
    "#       std::cout << \"Could not estimate a planar model for the given dataset.\" << std::endl;\n",
    "#       break;\n",
    "#     }\n",
    "#     // Extract the planar inliers from the input cloud\n",
    "#     pcl::ExtractIndices<pcl::PointXYZ> extract;\n",
    "#     extract.setInputCloud (cloud_filtered);\n",
    "#     extract.setIndices (inliers);\n",
    "#     extract.setNegative (false);\n",
    "# \n",
    "#     // Get the points associated with the planar surface\n",
    "#     extract.filter (*cloud_plane);\n",
    "#     std::cout << \"PointCloud representing the planar component: \" << cloud_plane->points.size () << \" data points.\" << std::endl;\n",
    "# \n",
    "#     // Remove the planar inliers, extract the rest\n",
    "#     extract.setNegative (true);\n",
    "#     extract.filter (*cloud_f);\n",
    "#     *cloud_filtered = *cloud_f;\n",
    "#   }\n",
    "\n",
    "i = 0\n",
    "nr_points = cloud_filtered.size\n",
    "# while nr_points > 0.3 * nr_points:\n",
    "#     # Segment the largest planar component from the remaining cloud\n",
    "#     [inliers, coefficients] = seg.segment()\n",
    "#     # extract = cloud_filtered.extract()\n",
    "#     # extract = pcl.PointIndices()\n",
    "#     cloud_filtered.extract(extract)\n",
    "#     extract.set_Indices (inliers)\n",
    "#     extract.set_Negative (false)\n",
    "#     cloud_plane = extract.filter ()\n",
    "#     \n",
    "#     extract.set_Negative (True)\n",
    "#     cloud_f = extract.filter ()\n",
    "#     cloud_filtered = cloud_f\n",
    "\n",
    "\n",
    "# Creating the KdTree object for the search method of the extraction\n",
    "# pcl::search::KdTree<pcl::PointXYZ>::Ptr tree (new pcl::search::KdTree<pcl::PointXYZ>);\n",
    "# tree->setInputCloud (cloud_filtered);\n",
    "tree = cloud_filtered.make_kdtree()\n",
    "# tree = cloud_filtered.make_kdtree_flann()\n",
    "\n",
    "\n",
    "# std::vector<pcl::PointIndices> cluster_indices;\n",
    "# pcl::EuclideanClusterExtraction<pcl::PointXYZ> ec;\n",
    "# ec.setClusterTolerance (0.02); // 2cm\n",
    "# ec.setMinClusterSize (100);\n",
    "# ec.setMaxClusterSize (25000);\n",
    "# ec.setSearchMethod (tree);\n",
    "# ec.setInputCloud (cloud_filtered);\n",
    "# ec.extract (cluster_indices);\n",
    "ec = cloud_filtered.make_EuclideanClusterExtraction()\n",
    "ec.set_ClusterTolerance (0.02)\n",
    "ec.set_MinClusterSize (100)\n",
    "ec.set_MaxClusterSize (25000)\n",
    "ec.set_SearchMethod (tree)\n",
    "cluster_indices = ec.Extract()\n",
    "\n",
    "print('cluster_indices : ' + str(cluster_indices.count) + \" count.\")\n",
    "# print('cluster_indices : ' + str(cluster_indices.indices.max_size) + \" count.\")\n",
    "\n",
    "#   int j = 0;\n",
    "#   for (std::vector<pcl::PointIndices>::const_iterator it = cluster_indices.begin (); it != cluster_indices.end (); ++it)\n",
    "#   {\n",
    "#     pcl::PointCloud<pcl::PointXYZ>::Ptr cloud_cluster (new pcl::PointCloud<pcl::PointXYZ>);\n",
    "#     for (std::vector<int>::const_iterator pit = it->indices.begin (); pit != it->indices.end (); ++pit)\n",
    "#       cloud_cluster->points.push_back (cloud_filtered->points[*pit]); //*\n",
    "#     cloud_cluster->width = cloud_cluster->points.size ();\n",
    "#     cloud_cluster->height = 1;\n",
    "#     cloud_cluster->is_dense = true;\n",
    "# \n",
    "#     std::cout << \"PointCloud representing the Cluster: \" << cloud_cluster->points.size () << \" data points.\" << std::endl;\n",
    "#     std::stringstream ss;\n",
    "#     ss << \"cloud_cluster_\" << j << \".pcd\";\n",
    "#     writer.write<pcl::PointXYZ> (ss.str (), *cloud_cluster, false); //*\n",
    "#     j++;\n",
    "#   }\n",
    "# \n",
    "\n",
    "cloud_cluster = pcl.PointCloud()\n",
    "obj_line = np.empty([len(cluster_indices),3],dtype = float)\n",
    "for j, indices in enumerate(cluster_indices):\n",
    "    # cloudsize = indices\n",
    "    print('indices = ' + str(len(indices)))\n",
    "    # cloudsize = len(indices)\n",
    "    points = np.zeros((len(indices), 3), dtype=np.float32)\n",
    "    # points = np.zeros((cloudsize, 3), dtype=np.float32)\n",
    "    \n",
    "    # for indice in range(len(indices)):\n",
    "    for i, indice in enumerate(indices):\n",
    "        # print('dataNum = ' + str(i) + ', data point[x y z]: ' + str(cloud_filtered[indice][0]) + ' ' + str(cloud_filtered[indice][1]) + ' ' + str(cloud_filtered[indice][2]))\n",
    "        # print('PointCloud representing the Cluster: ' + str(cloud_cluster.size) + \" data points.\")\n",
    "        points[i][0] = cloud_filtered[indice][0]\n",
    "        points[i][1] = cloud_filtered[indice][1]\n",
    "        points[i][2] = cloud_filtered[indice][2]\n",
    "\n",
    "    x_mean = (points[:,0].max()+points[:,0].min())/2\n",
    "    y_mean = (points[:,1].max()+points[:,1].min())/2\n",
    "    loc_dot= np.hstack((x_mean,y_mean))\n",
    "    \n",
    "    x_det = points[:,0].max()-points[:,0].min()\n",
    "    y_det = points[:,0].max()-points[:,0].min()\n",
    "    radius = (x_det+y_det)/2\n",
    "\n",
    "    obj_line[j,:] = np.hstack((loc_dot,radius))\n",
    "    \n",
    "    x_mean = (points[:,0].max()+points[:,0].min())/2\n",
    "    y_mean = (points[:,1].max()+points[:,1].min())/2\n",
    "    loc_dot= np.hstack((x_mean,y_mean))\n",
    "    \n",
    "    x_det = points[:,0].max()-points[:,0].min()\n",
    "    y_det = points[:,0].max()-points[:,0].min()\n",
    "    radius = (x_det+y_det)/2\n",
    "          \n",
    "    cloud_cluster.from_array(points)\n",
    "\n",
    "#     ss = \"cloud_cluster_\" + str(j) + \".pcd\";\n",
    "#     pcl.save(cloud_cluster, ss)\n",
    "\n",
    "    obj_line[j,:] = np.hstack((loc_dot,radius))\n",
    "#     ss_matlab = \"cloud_cluster_\" + str(j) + \".mat\";\n",
    "#     scio.savemat(ss_matlab, {'A':cloud_cluster})\n"
   ]
  },
  {
   "cell_type": "code",
   "execution_count": 20,
   "metadata": {},
   "outputs": [
    {
     "data": {
      "image/png": "[encoded data removed]",
      "text/plain": [
       "<Figure size 648x648 with 1 Axes>"
      ]
     },
     "metadata": {
      "needs_background": "light"
     },
     "output_type": "display_data"
    }
   ],
   "source": [
    "# plot prediction by obj_mean\n",
    "pre_id = 0\n",
    "nusc.plot_pointcloud_prediction(points_fig, obj_line, pre_id)"
   ]
  },
  {
   "cell_type": "code",
   "execution_count": 23,
   "metadata": {},
   "outputs": [
    {
     "data": {
      "image/png": "[encoded data removed]",
      "text/plain": [
       "<Figure size 432x288 with 1 Axes>"
      ]
     },
     "metadata": {
      "needs_background": "light"
     },
     "output_type": "display_data"
    },
    {
     "data": {
      "text/plain": [
       "8"
      ]
     },
     "execution_count": 23,
     "metadata": {},
     "output_type": "execute_result"
    }
   ],
   "source": [
    "from matplotlib.patches import Ellipse, Circle\n",
    "import matplotlib.pyplot as plt\n",
    "\n",
    "fig = plt.figure()\n",
    "ax = fig.add_subplot(111)\n",
    "for i in range(obj_line.shape[0]):\n",
    "    cir1 = Circle(xy = (obj_line[i][0], obj_line[i][1]), radius=obj_line[i][2], color ='r', fill=False) \n",
    "    ax.add_patch(cir1)\n",
    "plt.axis('scaled')\n",
    "\n",
    "plt.show()\n",
    "\n",
    "obj_line.shape[0]\n",
    "\n"
   ]
  },
  {
   "cell_type": "code",
   "execution_count": null,
   "metadata": {},
   "outputs": [],
   "source": []
  },
  {
   "cell_type": "code",
   "execution_count": null,
   "metadata": {},
   "outputs": [],
   "source": []
  },
  {
   "cell_type": "code",
   "execution_count": null,
   "metadata": {},
   "outputs": [],
   "source": []
  }
 ],
 "metadata": {
  "kernelspec": {
   "display_name": "Python 3",
   "language": "python",
   "name": "python3"
  },
  "language_info": {
   "codemirror_mode": {
    "name": "ipython",
    "version": 3
   },
   "file_extension": ".py",
   "mimetype": "text/x-python",
   "name": "python",
   "nbconvert_exporter": "python",
   "pygments_lexer": "ipython3",
   "version": "3.7.1"
  }
 },
 "nbformat": 4,
 "nbformat_minor": 2
}
